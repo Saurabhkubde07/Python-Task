{
 "cells": [
  {
   "cell_type": "markdown",
   "id": "89e72707",
   "metadata": {},
   "source": [
    "# DICTIONARY"
   ]
  },
  {
   "cell_type": "markdown",
   "id": "bd8b646f",
   "metadata": {},
   "source": [
    "# COPY \n",
    "Make a copy of a dictionary with the copy() method"
   ]
  },
  {
   "cell_type": "code",
   "execution_count": 1,
   "id": "0cdff19d",
   "metadata": {},
   "outputs": [],
   "source": [
    "student = {'name':'Saurabh','result':'pass','year':'2021'}"
   ]
  },
  {
   "cell_type": "code",
   "execution_count": 2,
   "id": "fc2de494",
   "metadata": {},
   "outputs": [
    {
     "data": {
      "text/plain": [
       "{'name': 'Saurabh', 'result': 'pass', 'year': '2021'}"
      ]
     },
     "execution_count": 2,
     "metadata": {},
     "output_type": "execute_result"
    }
   ],
   "source": [
    "student"
   ]
  },
  {
   "cell_type": "code",
   "execution_count": 3,
   "id": "f67b5e69",
   "metadata": {},
   "outputs": [],
   "source": [
    "student = student.copy()"
   ]
  },
  {
   "cell_type": "code",
   "execution_count": 4,
   "id": "9d8debdb",
   "metadata": {},
   "outputs": [
    {
     "data": {
      "text/plain": [
       "{'name': 'Saurabh', 'result': 'pass', 'year': '2021'}"
      ]
     },
     "execution_count": 4,
     "metadata": {},
     "output_type": "execute_result"
    }
   ],
   "source": [
    "student"
   ]
  },
  {
   "cell_type": "markdown",
   "id": "dbca8eaa",
   "metadata": {},
   "source": [
    "# FROMKEYS\n",
    "Returns a dictionary with the specified keys and values."
   ]
  },
  {
   "cell_type": "code",
   "execution_count": 5,
   "id": "7ed569b1",
   "metadata": {},
   "outputs": [],
   "source": [
    "x = ('a1','a2','a3')\n",
    "y = 0"
   ]
  },
  {
   "cell_type": "code",
   "execution_count": 6,
   "id": "d5cc09a4",
   "metadata": {},
   "outputs": [],
   "source": [
    "xy = dict.fromkeys(x,y)\n",
    "\n"
   ]
  },
  {
   "cell_type": "code",
   "execution_count": 7,
   "id": "7ef4a64e",
   "metadata": {},
   "outputs": [
    {
     "data": {
      "text/plain": [
       "{'a1': 0, 'a2': 0, 'a3': 0}"
      ]
     },
     "execution_count": 7,
     "metadata": {},
     "output_type": "execute_result"
    }
   ],
   "source": [
    "xy"
   ]
  },
  {
   "cell_type": "markdown",
   "id": "718332af",
   "metadata": {},
   "source": [
    "without specified keys and values."
   ]
  },
  {
   "cell_type": "code",
   "execution_count": 8,
   "id": "0be7bd6b",
   "metadata": {},
   "outputs": [],
   "source": [
    "x = ('ab1','ab2','ab3')"
   ]
  },
  {
   "cell_type": "code",
   "execution_count": 9,
   "id": "a0416042",
   "metadata": {},
   "outputs": [],
   "source": [
    "x = dict.fromkeys(x)"
   ]
  },
  {
   "cell_type": "code",
   "execution_count": 10,
   "id": "4134cb2b",
   "metadata": {},
   "outputs": [
    {
     "data": {
      "text/plain": [
       "{'ab1': None, 'ab2': None, 'ab3': None}"
      ]
     },
     "execution_count": 10,
     "metadata": {},
     "output_type": "execute_result"
    }
   ],
   "source": [
    "x"
   ]
  },
  {
   "cell_type": "markdown",
   "id": "b8e53518",
   "metadata": {},
   "source": [
    "# GET\n",
    "the get method return the value of the item with the specified keys."
   ]
  },
  {
   "cell_type": "code",
   "execution_count": 11,
   "id": "77ea8cd8",
   "metadata": {},
   "outputs": [],
   "source": [
    "student = {'name':'Saurabh','result':'pass','year':'2021'}"
   ]
  },
  {
   "cell_type": "code",
   "execution_count": 12,
   "id": "bbb2ce3a",
   "metadata": {},
   "outputs": [],
   "source": [
    "student = student.get('result')"
   ]
  },
  {
   "cell_type": "code",
   "execution_count": 13,
   "id": "6b662111",
   "metadata": {},
   "outputs": [
    {
     "data": {
      "text/plain": [
       "'pass'"
      ]
     },
     "execution_count": 13,
     "metadata": {},
     "output_type": "execute_result"
    }
   ],
   "source": [
    "student"
   ]
  },
  {
   "cell_type": "code",
   "execution_count": 14,
   "id": "f9b336e9",
   "metadata": {},
   "outputs": [],
   "source": [
    "student = {'name':'Saurabh','result':'pass','year':'2021'}"
   ]
  },
  {
   "cell_type": "code",
   "execution_count": 15,
   "id": "b96a5046",
   "metadata": {},
   "outputs": [],
   "source": [
    "student = student.get('year')"
   ]
  },
  {
   "cell_type": "code",
   "execution_count": 16,
   "id": "62e73a63",
   "metadata": {},
   "outputs": [
    {
     "data": {
      "text/plain": [
       "'2021'"
      ]
     },
     "execution_count": 16,
     "metadata": {},
     "output_type": "execute_result"
    }
   ],
   "source": [
    "student"
   ]
  },
  {
   "cell_type": "markdown",
   "id": "7e70f468",
   "metadata": {},
   "source": [
    "# ITEMS\n",
    "The items method returns a view object.the view object contains the key-values pairs of the dictionary ."
   ]
  },
  {
   "cell_type": "code",
   "execution_count": 17,
   "id": "2f3af211",
   "metadata": {},
   "outputs": [],
   "source": [
    "student = {'name':'Saurabh','result':'pass','year':'2021'}"
   ]
  },
  {
   "cell_type": "code",
   "execution_count": 18,
   "id": "feef0515",
   "metadata": {},
   "outputs": [
    {
     "data": {
      "text/plain": [
       "{'name': 'Saurabh', 'result': 'pass', 'year': '2021'}"
      ]
     },
     "execution_count": 18,
     "metadata": {},
     "output_type": "execute_result"
    }
   ],
   "source": [
    "student"
   ]
  },
  {
   "cell_type": "code",
   "execution_count": 19,
   "id": "c84b2606",
   "metadata": {},
   "outputs": [],
   "source": [
    "student = student.items()"
   ]
  },
  {
   "cell_type": "code",
   "execution_count": 20,
   "id": "ff3789d9",
   "metadata": {},
   "outputs": [
    {
     "data": {
      "text/plain": [
       "dict_items([('name', 'Saurabh'), ('result', 'pass'), ('year', '2021')])"
      ]
     },
     "execution_count": 20,
     "metadata": {},
     "output_type": "execute_result"
    }
   ],
   "source": [
    "student"
   ]
  },
  {
   "cell_type": "markdown",
   "id": "4eed97a7",
   "metadata": {},
   "source": [
    "# SETDEFAULT\n",
    "The setdefault method returns the value of the specified key.if the key does not exist: insert the key, with the specified value"
   ]
  },
  {
   "cell_type": "code",
   "execution_count": 21,
   "id": "3ec582f3",
   "metadata": {},
   "outputs": [],
   "source": [
    "student = {'name':'Saurabh','result':'pass','year':'2021'}"
   ]
  },
  {
   "cell_type": "code",
   "execution_count": 22,
   "id": "a3447600",
   "metadata": {},
   "outputs": [
    {
     "data": {
      "text/plain": [
       "{'name': 'Saurabh', 'result': 'pass', 'year': '2021'}"
      ]
     },
     "execution_count": 22,
     "metadata": {},
     "output_type": "execute_result"
    }
   ],
   "source": [
    "student"
   ]
  },
  {
   "cell_type": "code",
   "execution_count": 23,
   "id": "3b8ac9d1",
   "metadata": {},
   "outputs": [],
   "source": [
    "student = student.setdefault('name','kunal')"
   ]
  },
  {
   "cell_type": "code",
   "execution_count": 24,
   "id": "ee5d44f4",
   "metadata": {},
   "outputs": [
    {
     "data": {
      "text/plain": [
       "'Saurabh'"
      ]
     },
     "execution_count": 24,
     "metadata": {},
     "output_type": "execute_result"
    }
   ],
   "source": [
    "student"
   ]
  },
  {
   "cell_type": "markdown",
   "id": "ad564218",
   "metadata": {},
   "source": [
    "# UPDATE\n",
    "The updates  mothod updates the dictionary with the specified key-values pairs."
   ]
  },
  {
   "cell_type": "code",
   "execution_count": 25,
   "id": "42e667b4",
   "metadata": {},
   "outputs": [],
   "source": [
    "student = {'name':'Saurabh','result':'pass','year':'2021'}"
   ]
  },
  {
   "cell_type": "code",
   "execution_count": 26,
   "id": "5a35d3f6",
   "metadata": {},
   "outputs": [
    {
     "data": {
      "text/plain": [
       "{'name': 'Saurabh', 'result': 'pass', 'year': '2021'}"
      ]
     },
     "execution_count": 26,
     "metadata": {},
     "output_type": "execute_result"
    }
   ],
   "source": [
    "student"
   ]
  },
  {
   "cell_type": "code",
   "execution_count": 27,
   "id": "d7d946db",
   "metadata": {},
   "outputs": [],
   "source": [
    "student.update({'surname':'dube'})"
   ]
  },
  {
   "cell_type": "code",
   "execution_count": 28,
   "id": "3f2ed46d",
   "metadata": {},
   "outputs": [
    {
     "data": {
      "text/plain": [
       "{'name': 'Saurabh', 'result': 'pass', 'year': '2021', 'surname': 'dube'}"
      ]
     },
     "execution_count": 28,
     "metadata": {},
     "output_type": "execute_result"
    }
   ],
   "source": [
    "student"
   ]
  },
  {
   "cell_type": "markdown",
   "id": "f94a2fe0",
   "metadata": {},
   "source": [
    "# CLEAR\n",
    "the clear method removes all the element from a dictionary"
   ]
  },
  {
   "cell_type": "code",
   "execution_count": 29,
   "id": "b261cb0f",
   "metadata": {},
   "outputs": [],
   "source": [
    "student = {'name':'Saurabh','result':'pass','year':'2021'}"
   ]
  },
  {
   "cell_type": "code",
   "execution_count": 30,
   "id": "dca830cd",
   "metadata": {},
   "outputs": [
    {
     "data": {
      "text/plain": [
       "{'name': 'Saurabh', 'result': 'pass', 'year': '2021'}"
      ]
     },
     "execution_count": 30,
     "metadata": {},
     "output_type": "execute_result"
    }
   ],
   "source": [
    "student"
   ]
  },
  {
   "cell_type": "code",
   "execution_count": 31,
   "id": "51091e24",
   "metadata": {},
   "outputs": [],
   "source": [
    "student.clear()"
   ]
  },
  {
   "cell_type": "code",
   "execution_count": 32,
   "id": "9912b316",
   "metadata": {},
   "outputs": [
    {
     "data": {
      "text/plain": [
       "{}"
      ]
     },
     "execution_count": 32,
     "metadata": {},
     "output_type": "execute_result"
    }
   ],
   "source": [
    "student"
   ]
  },
  {
   "cell_type": "markdown",
   "id": "c8b1aeeb",
   "metadata": {},
   "source": [
    "# Values"
   ]
  },
  {
   "cell_type": "markdown",
   "id": "498a5be3",
   "metadata": {},
   "source": [
    "This method Returns a view object that displays a list of all the values in the dictionary.\n"
   ]
  },
  {
   "cell_type": "code",
   "execution_count": 33,
   "id": "8c271f1f",
   "metadata": {},
   "outputs": [
    {
     "data": {
      "text/plain": [
       "{'s1': 50, 's2': 60, 's3': 70, 's4': 80}"
      ]
     },
     "execution_count": 33,
     "metadata": {},
     "output_type": "execute_result"
    }
   ],
   "source": [
    "dict = {'s1':50,'s2':60,'s3':70,'s4':80}\n",
    "dict"
   ]
  },
  {
   "cell_type": "code",
   "execution_count": 34,
   "id": "48384531",
   "metadata": {},
   "outputs": [
    {
     "data": {
      "text/plain": [
       "dict_values([50, 60, 70, 80])"
      ]
     },
     "execution_count": 34,
     "metadata": {},
     "output_type": "execute_result"
    }
   ],
   "source": [
    "dict.values()"
   ]
  },
  {
   "cell_type": "markdown",
   "id": "d0ba8a9d",
   "metadata": {},
   "source": [
    "# Keys"
   ]
  },
  {
   "cell_type": "markdown",
   "id": "9c0607f5",
   "metadata": {},
   "source": [
    "Returns a view object that displays a list of all the keys in the dictionary."
   ]
  },
  {
   "cell_type": "code",
   "execution_count": 35,
   "id": "0f808ce0",
   "metadata": {},
   "outputs": [
    {
     "data": {
      "text/plain": [
       "{'s1': 50, 's2': 60, 's3': 70, 's4': 80}"
      ]
     },
     "execution_count": 35,
     "metadata": {},
     "output_type": "execute_result"
    }
   ],
   "source": [
    "dict = {'s1':50,'s2':60,'s3':70,'s4':80}\n",
    "dict"
   ]
  },
  {
   "cell_type": "code",
   "execution_count": 36,
   "id": "ae02084f",
   "metadata": {},
   "outputs": [
    {
     "data": {
      "text/plain": [
       "dict_keys(['s1', 's2', 's3', 's4'])"
      ]
     },
     "execution_count": 36,
     "metadata": {},
     "output_type": "execute_result"
    }
   ],
   "source": [
    "dict.keys()"
   ]
  },
  {
   "cell_type": "code",
   "execution_count": null,
   "id": "7d8cb238",
   "metadata": {},
   "outputs": [],
   "source": []
  }
 ],
 "metadata": {
  "kernelspec": {
   "display_name": "Python 3 (ipykernel)",
   "language": "python",
   "name": "python3"
  },
  "language_info": {
   "codemirror_mode": {
    "name": "ipython",
    "version": 3
   },
   "file_extension": ".py",
   "mimetype": "text/x-python",
   "name": "python",
   "nbconvert_exporter": "python",
   "pygments_lexer": "ipython3",
   "version": "3.11.3"
  }
 },
 "nbformat": 4,
 "nbformat_minor": 5
}
